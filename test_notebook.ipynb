{
 "cells": [
  {
   "cell_type": "code",
   "execution_count": 1,
   "id": "925f4b41",
   "metadata": {},
   "outputs": [],
   "source": [
    "import pandas as pd\n",
    "import bqplot\n",
    "import numpy as np\n",
    "import traitlets\n",
    "import ipywidgets\n",
    "%matplotlib inline"
   ]
  },
  {
   "cell_type": "code",
   "execution_count": 2,
   "id": "6ae43cb3",
   "metadata": {},
   "outputs": [
    {
     "data": {
      "text/plain": [
       "array([[0.76314002, 0.05957441, 0.43950407, 0.40639971, 0.52997786,\n",
       "        0.70843207, 0.34332842, 0.45185763, 0.47672926, 0.69535131],\n",
       "       [0.86486215, 0.99662563, 0.08947889, 0.23611838, 0.32460348,\n",
       "        0.57316155, 0.64053347, 0.26031051, 0.74818024, 0.31272586],\n",
       "       [0.12236094, 0.51712982, 0.03495167, 0.77336812, 0.59656816,\n",
       "        0.40989961, 0.1388939 , 0.56158122, 0.4197415 , 0.03257183],\n",
       "       [0.99771888, 0.98718016, 0.08373797, 0.85285732, 0.78141752,\n",
       "        0.91884526, 0.88305272, 0.3012075 , 0.69854041, 0.53256706],\n",
       "       [0.84282687, 0.79367147, 0.84815466, 0.57292689, 0.82777561,\n",
       "        0.51416333, 0.39271687, 0.96182268, 0.18606664, 0.40130794],\n",
       "       [0.21884523, 0.39248298, 0.24928003, 0.16663743, 0.88678286,\n",
       "        0.21702417, 0.4941264 , 0.3627511 , 0.18279025, 0.90886575],\n",
       "       [0.02601787, 0.94427118, 0.75787441, 0.2549157 , 0.77675879,\n",
       "        0.32400178, 0.1978202 , 0.21141663, 0.59848666, 0.63293076],\n",
       "       [0.62286368, 0.78837026, 0.42887367, 0.32195188, 0.34701514,\n",
       "        0.93802565, 0.20803188, 0.45909243, 0.67811108, 0.84842606],\n",
       "       [0.92808536, 0.0107402 , 0.25779643, 0.64138667, 0.93973306,\n",
       "        0.09180699, 0.10520001, 0.35743772, 0.11893779, 0.72695697],\n",
       "       [0.40595341, 0.92571634, 0.82935361, 0.68568544, 0.71822673,\n",
       "        0.57485536, 0.1170397 , 0.1750606 , 0.93922211, 0.00257493]])"
      ]
     },
     "execution_count": 2,
     "metadata": {},
     "output_type": "execute_result"
    }
   ],
   "source": [
    "data = np.random.random((10, 10))\n",
    "data"
   ]
  },
  {
   "cell_type": "code",
   "execution_count": 3,
   "id": "f8b2ba30",
   "metadata": {},
   "outputs": [
    {
     "data": {
      "application/vnd.jupyter.widget-view+json": {
       "model_id": "59cc31c5a13440eb96879f1467ef22b0",
       "version_major": 2,
       "version_minor": 0
      },
      "text/plain": [
       "VBox(children=(Label(value=''), Figure(axes=[ColorAxis(orientation='vertical', scale=ColorScale(scheme='Reds')…"
      ]
     },
     "metadata": {},
     "output_type": "display_data"
    }
   ],
   "source": [
    "col_sc = bqplot.ColorScale(scheme = \"Reds\")\n",
    "x_sc = bqplot.OrdinalScale()\n",
    "y_sc = bqplot.OrdinalScale()\n",
    "\n",
    "\n",
    "c_ax = bqplot.ColorAxis(scale = col_sc, \n",
    "                        orientation = 'vertical', \n",
    "                        side = 'right')\n",
    "x_ax = bqplot.Axis(scale = x_sc)\n",
    "y_ax = bqplot.Axis(scale = y_sc, \n",
    "                   orientation = 'vertical')\n",
    "\n",
    "\n",
    "mySelectedLabel = ipywidgets.Label()\n",
    "\n",
    "\n",
    "# linking function\n",
    "\n",
    "def get_data_value(change):\n",
    "    i,j = change['owner'].selected[0]\n",
    "    v = data[i,j] \n",
    "    mySelectedLabel.value = str(v) \n",
    "\n",
    "heat_map = bqplot.GridHeatMap(color = data,\n",
    "                              scales = {'color': col_sc,\n",
    "                                        'row': y_sc,\n",
    "                                        'column': x_sc},\n",
    "                              interactions = {'click': 'select'},\n",
    "                              anchor_style = {'fill':'blue'}, \n",
    "                              selected_style = {'opacity': 1.0},\n",
    "                              unselected_style = {'opacity': 0.8})\n",
    "\n",
    "    \n",
    "heat_map.observe(get_data_value, 'selected')\n",
    "\n",
    "fig = bqplot.Figure(marks = [heat_map], \n",
    "                    axes = [c_ax, y_ax, x_ax])\n",
    "\n",
    "ipywidgets.VBox([mySelectedLabel, fig])"
   ]
  },
  {
   "cell_type": "code",
   "execution_count": null,
   "id": "4fe376c0",
   "metadata": {},
   "outputs": [],
   "source": []
  }
 ],
 "metadata": {
  "kernelspec": {
   "display_name": "Python 3 (ipykernel)",
   "language": "python",
   "name": "python3"
  },
  "language_info": {
   "codemirror_mode": {
    "name": "ipython",
    "version": 3
   },
   "file_extension": ".py",
   "mimetype": "text/x-python",
   "name": "python",
   "nbconvert_exporter": "python",
   "pygments_lexer": "ipython3",
   "version": "3.7.12"
  }
 },
 "nbformat": 4,
 "nbformat_minor": 5
}
